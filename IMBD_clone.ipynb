{
  "nbformat": 4,
  "nbformat_minor": 0,
  "metadata": {
    "colab": {
      "name": "IMBD_clone.ipynb",
      "provenance": [],
      "toc_visible": true
    },
    "kernelspec": {
      "name": "python3",
      "display_name": "Python 3"
    },
    "language_info": {
      "name": "python"
    }
  },
  "cells": [
    {
      "cell_type": "code",
      "metadata": {
        "colab": {
          "base_uri": "https://localhost:8080/"
        },
        "id": "_sYaHTXumrQE",
        "outputId": "66a24859-07d9-4032-e327-63b015b506cd"
      },
      "source": [
        "import pandas as pd\n",
        "import numpy as np\n",
        "#Load the dataset into a pandas dataframe\n",
        "df = pd.read_csv('movies_metadata.csv')\n",
        "df.columns"
      ],
      "execution_count": 1,
      "outputs": [
        {
          "output_type": "stream",
          "text": [
            "/usr/local/lib/python3.7/dist-packages/IPython/core/interactiveshell.py:2718: DtypeWarning: Columns (10) have mixed types.Specify dtype option on import or set low_memory=False.\n",
            "  interactivity=interactivity, compiler=compiler, result=result)\n"
          ],
          "name": "stderr"
        },
        {
          "output_type": "execute_result",
          "data": {
            "text/plain": [
              "Index(['adult', 'belongs_to_collection', 'budget', 'genres', 'homepage', 'id',\n",
              "       'imdb_id', 'original_language', 'original_title', 'overview',\n",
              "       'popularity', 'poster_path', 'production_companies',\n",
              "       'production_countries', 'release_date', 'revenue', 'runtime',\n",
              "       'spoken_languages', 'status', 'tagline', 'title', 'video',\n",
              "       'vote_average', 'vote_count'],\n",
              "      dtype='object')"
            ]
          },
          "metadata": {
            "tags": []
          },
          "execution_count": 1
        }
      ]
    },
    {
      "cell_type": "code",
      "metadata": {
        "colab": {
          "base_uri": "https://localhost:8080/"
        },
        "id": "HvsVLd6S0SZd",
        "outputId": "13ae435c-49a7-41f7-e518-ebb0e4be3621"
      },
      "source": [
        "df.shape"
      ],
      "execution_count": 2,
      "outputs": [
        {
          "output_type": "execute_result",
          "data": {
            "text/plain": [
              "(45466, 24)"
            ]
          },
          "metadata": {
            "tags": []
          },
          "execution_count": 2
        }
      ]
    },
    {
      "cell_type": "code",
      "metadata": {
        "id": "eh7hSO0074YL"
      },
      "source": [
        "for item in np.array_split(df, 3):\n",
        "  item=item\n",
        "  break"
      ],
      "execution_count": 3,
      "outputs": []
    },
    {
      "cell_type": "code",
      "metadata": {
        "id": "hb9bs8Xk8Jxm"
      },
      "source": [
        "df=item"
      ],
      "execution_count": 4,
      "outputs": []
    },
    {
      "cell_type": "code",
      "metadata": {
        "colab": {
          "base_uri": "https://localhost:8080/"
        },
        "id": "QA-3pjKG6zZb",
        "outputId": "847093c9-7582-48dd-ce1e-38e3e8bcf10a"
      },
      "source": [
        "df.info()"
      ],
      "execution_count": 5,
      "outputs": [
        {
          "output_type": "stream",
          "text": [
            "<class 'pandas.core.frame.DataFrame'>\n",
            "RangeIndex: 15156 entries, 0 to 15155\n",
            "Data columns (total 24 columns):\n",
            " #   Column                 Non-Null Count  Dtype  \n",
            "---  ------                 --------------  -----  \n",
            " 0   adult                  15156 non-null  object \n",
            " 1   belongs_to_collection  1984 non-null   object \n",
            " 2   budget                 15156 non-null  object \n",
            " 3   genres                 15156 non-null  object \n",
            " 4   homepage               1807 non-null   object \n",
            " 5   id                     15156 non-null  object \n",
            " 6   imdb_id                15153 non-null  object \n",
            " 7   original_language      15156 non-null  object \n",
            " 8   original_title         15156 non-null  object \n",
            " 9   overview               15094 non-null  object \n",
            " 10  popularity             15156 non-null  object \n",
            " 11  poster_path            15111 non-null  object \n",
            " 12  production_companies   15156 non-null  object \n",
            " 13  production_countries   15156 non-null  object \n",
            " 14  release_date           15149 non-null  object \n",
            " 15  revenue                15156 non-null  float64\n",
            " 16  runtime                15144 non-null  float64\n",
            " 17  spoken_languages       15156 non-null  object \n",
            " 18  status                 15146 non-null  object \n",
            " 19  tagline                9612 non-null   object \n",
            " 20  title                  15156 non-null  object \n",
            " 21  video                  15156 non-null  object \n",
            " 22  vote_average           15156 non-null  float64\n",
            " 23  vote_count             15156 non-null  float64\n",
            "dtypes: float64(4), object(20)\n",
            "memory usage: 2.8+ MB\n"
          ],
          "name": "stdout"
        }
      ]
    },
    {
      "cell_type": "code",
      "metadata": {
        "id": "LCuTj4igo38X"
      },
      "source": [
        "from sklearn.feature_extraction.text import TfidfVectorizer"
      ],
      "execution_count": 6,
      "outputs": []
    },
    {
      "cell_type": "code",
      "metadata": {
        "id": "_oBBSvWh5nQR"
      },
      "source": [
        "tfidf = TfidfVectorizer(stop_words='english')"
      ],
      "execution_count": 7,
      "outputs": []
    },
    {
      "cell_type": "code",
      "metadata": {
        "id": "3HLJam8t53jq"
      },
      "source": [
        "df['overview']=df['overview'].fillna('')"
      ],
      "execution_count": 8,
      "outputs": []
    },
    {
      "cell_type": "code",
      "metadata": {
        "id": "6-sjuZOI6PnW"
      },
      "source": [
        "tfidf_matrix=tfidf.fit_transform(df['overview'])"
      ],
      "execution_count": 9,
      "outputs": []
    },
    {
      "cell_type": "code",
      "metadata": {
        "id": "aZ3xkjQb6bi7",
        "colab": {
          "base_uri": "https://localhost:8080/"
        },
        "outputId": "9956259b-baf8-44bd-e643-b75c7c636219"
      },
      "source": [
        "tfidf_matrix.shape"
      ],
      "execution_count": 10,
      "outputs": [
        {
          "output_type": "execute_result",
          "data": {
            "text/plain": [
              "(15156, 40469)"
            ]
          },
          "metadata": {
            "tags": []
          },
          "execution_count": 10
        }
      ]
    },
    {
      "cell_type": "code",
      "metadata": {
        "id": "GtFEf3E86kSQ"
      },
      "source": [
        "from sklearn.metrics.pairwise import cosine_similarity\n",
        "cosine_sim = cosine_similarity(tfidf_matrix)"
      ],
      "execution_count": 11,
      "outputs": []
    },
    {
      "cell_type": "code",
      "metadata": {
        "id": "IaKbMGwq6st8"
      },
      "source": [
        "indices = pd.Series(df.index, index=df['title']).drop_duplicates()"
      ],
      "execution_count": 12,
      "outputs": []
    },
    {
      "cell_type": "code",
      "metadata": {
        "colab": {
          "base_uri": "https://localhost:8080/"
        },
        "id": "KizfjT2_9URC",
        "outputId": "7797e7d0-9fe6-488f-bfca-6c0b5bebde6e"
      },
      "source": [
        "(cosine_sim[359])"
      ],
      "execution_count": 13,
      "outputs": [
        {
          "output_type": "execute_result",
          "data": {
            "text/plain": [
              "array([0., 0., 0., ..., 0., 0., 0.])"
            ]
          },
          "metadata": {
            "tags": []
          },
          "execution_count": 13
        }
      ]
    },
    {
      "cell_type": "code",
      "metadata": {
        "id": "kI7wsofk8pUg"
      },
      "source": [
        "# Function that takes in movie title as input and gives recommendations\n",
        "def content_recommender(title, cosine_sim=cosine_sim, df=df, indices=indices):\n",
        "  # Obtain the index of the movie that matches the title\n",
        "  idx = indices[title]\n",
        "  # Get the pairwsie similarity scores of all movies with that movie\n",
        "  # And convert it into a list of tuples as described above\n",
        "  sim_scores = list(enumerate(cosine_sim[idx]))\n",
        "  # Sort the movies based on the cosine similarity scores\n",
        "  sim_scores = sorted(sim_scores, key=lambda x: x[1], reverse=True)\n",
        "  # Get the scores of the 10 most similar movies. Ignore the first movie.\n",
        "  sim_scores = sim_scores[1:11]\n",
        "  # Get the movie indices\n",
        "  movie_indices = [i[0] for i in sim_scores]\n",
        "  # Return the top 10 most similar movies\n",
        "  return df['title'].iloc[movie_indices]"
      ],
      "execution_count": 15,
      "outputs": []
    },
    {
      "cell_type": "code",
      "metadata": {
        "id": "4drSk9lI94I7",
        "colab": {
          "base_uri": "https://localhost:8080/"
        },
        "outputId": "acdff9be-d09a-4b5e-f55d-647b923cf1a2"
      },
      "source": [
        "print(content_recommender('Jumanji'))"
      ],
      "execution_count": 17,
      "outputs": [
        {
          "output_type": "stream",
          "text": [
            "6166                       Brainscan\n",
            "8801                         Quintet\n",
            "9503                       Word Wars\n",
            "8079                         Masques\n",
            "13601    The Mindscape of Alan Moore\n",
            "6055                Poolhall Junkies\n",
            "2486                        eXistenZ\n",
            "10892                     Stay Alive\n",
            "13711                     Rhinoceros\n",
            "9107                         Nirvana\n",
            "Name: title, dtype: object\n"
          ],
          "name": "stdout"
        }
      ]
    },
    {
      "cell_type": "code",
      "metadata": {
        "id": "dVkrsx2mLfBo"
      },
      "source": [
        ""
      ],
      "execution_count": null,
      "outputs": []
    }
  ]
}